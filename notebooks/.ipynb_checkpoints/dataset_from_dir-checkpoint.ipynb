{
 "cells": [
  {
   "cell_type": "code",
   "execution_count": 1,
   "id": "e82dfac1",
   "metadata": {},
   "outputs": [],
   "source": [
    "import os, json"
   ]
  },
  {
   "cell_type": "code",
   "execution_count": 2,
   "id": "9949a595",
   "metadata": {},
   "outputs": [
    {
     "ename": "IndentationError",
     "evalue": "expected an indented block (2498764255.py, line 11)",
     "output_type": "error",
     "traceback": [
      "\u001b[0;36m  File \u001b[0;32m\"/tmp/ipykernel_1926367/2498764255.py\"\u001b[0;36m, line \u001b[0;32m11\u001b[0m\n\u001b[0;31m    d_obj = json.load(dj)\u001b[0m\n\u001b[0m    ^\u001b[0m\n\u001b[0;31mIndentationError\u001b[0m\u001b[0;31m:\u001b[0m expected an indented block\n"
     ]
    }
   ],
   "source": [
    "path = '/opt/team/hien/data/raw/'\n",
    "j = 'BPlan_Berlin_Planzeichen_filtered_updated.json'\n",
    "d = 'big_bbox.json'\n",
    "data_dir = 'files/big_dataset'\n",
    "with open(path+j, 'r') as file:\n",
    "    obj = json.load(file)\n",
    "    img = obj[\"images\"]\n",
    "    anno = obj[\"annotations\"]\n",
    "\n",
    "with open(path+d, 'r') as dj:\n",
    "    d_obj = json.load(dj)\n",
    "    d_img = d_obj[\"images\"]\n",
    "    d_anno = d_obj[\"annotations\"]\n",
    "    \n",
    "list_files = os.listdir(path+data_dir)\n",
    "\n",
    "for f in list_files:\n",
    "    for image in img:\n",
    "        if f == image['file_name']:\n",
    "            d_img.append(image)\n",
    "            for an in anno:\n",
    "                if (an['image_id'] == image[\"id\"]):\n",
    "                    d_anno.append(an)\n",
    "        \n",
    "with open(path + 'big_bbox.json', 'w') as output:\n",
    "    json.dump(d_obj, output, indent=4)"
   ]
  }
 ],
 "metadata": {
  "kernelspec": {
   "display_name": "Python 3 (ipykernel)",
   "language": "python",
   "name": "python3"
  },
  "language_info": {
   "codemirror_mode": {
    "name": "ipython",
    "version": 3
   },
   "file_extension": ".py",
   "mimetype": "text/x-python",
   "name": "python",
   "nbconvert_exporter": "python",
   "pygments_lexer": "ipython3",
   "version": "3.9.7"
  }
 },
 "nbformat": 4,
 "nbformat_minor": 5
}
