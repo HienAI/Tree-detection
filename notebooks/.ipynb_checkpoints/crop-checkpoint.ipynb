{
 "cells": [
  {
   "cell_type": "code",
   "execution_count": 1,
   "id": "ea8be482",
   "metadata": {},
   "outputs": [],
   "source": [
    "import cv2\n",
    "import json\n",
    "import os\n"
   ]
  },
  {
   "cell_type": "code",
   "execution_count": 2,
   "id": "721cbde4",
   "metadata": {
    "scrolled": true
   },
   "outputs": [
    {
     "name": "stdout",
     "output_type": "stream",
     "text": [
      "274\n",
      "274\n"
     ]
    }
   ],
   "source": [
    "path = \"/opt/data/team/hien/data/raw\"\n",
    "#read edited json\n",
    "with open(path + \"/BPlan_Berlin_Planzeichen_filtered_plan_schematic.json\",\"r\")as file:\n",
    "    obj = json.load(file)\n",
    "    img = obj[\"images\"]\n",
    "    anno = obj[\"annotations\"]\n",
    "    \n",
    "directory = path + \"/files/BPlan_cropped\"\n",
    "os.chdir(directory)\n",
    "\n",
    "print(len(img))\n",
    "print(len(anno))\n",
    "#test to find missing plan_schematic annotation\n",
    "#for i in range(len(img)):\n",
    "#    if (img[i][\"id\"] != anno[i][\"image_id\"]):\n",
    "#        print(i,\"id\" , img[i][\"id\"])\n",
    "\n",
    "\n",
    "#image = cv2.imread(path + \"/files/Bplan/\" + img[0][\"file_name\"])\n",
    "#cv2.imwrite(\"test_hien.png\", image)\n",
    "#cv2.imwrite(\"test_hien_cropped.png\", image[714:(1368+714),1419:(1129+1226)])\n",
    "\n",
    "#cv2.imshow('test', image)\n",
    "#cv2.waitKey(10000)"
   ]
  },
  {
   "cell_type": "code",
   "execution_count": 3,
   "id": "97b57db9",
   "metadata": {},
   "outputs": [],
   "source": [
    "#The COCO bounding box format is [top left x position, top left y position, width, height].\n",
    "#OpenCV image format (height h, width w, number of channels c)\n",
    "#In OpenCV Format: image[top left y pos : (height+ top left y post), top left x pos : (width+ top left x post)]\n",
    "#Bzw.: image[y1 : y2, x1 : x2]\n",
    "#im= cv2.imread(\"/opt/data/d59/storage6/basic_data/coco_data/BPlan_Berlin_Planzeichen/17943__0206078.png\")\n",
    "#cv2.imwrite(\"test1.PNG\", im[0:800,0:100])\n",
    "\n",
    "\n",
    "for i in img:\n",
    "    \n",
    "    for j in anno:\n",
    "        if i[\"id\"] == j[\"image_id\"]:\n",
    "            file_name = i[\"file_name\"]\n",
    "            bbox = j[\"bbox\"]\n",
    "\n",
    "            image = cv2.imread(\"/opt/data/d59/storage6/basic_data/coco_data/BPlan_Berlin_Planzeichen/\" + file_name)\n",
    "\n",
    "            x1 = int(bbox[0])\n",
    "            y1 = int(bbox[1])\n",
    "            x2 = int(bbox[2]) + x1\n",
    "            y2 = int(bbox[3]) + y1\n",
    "            \n",
    "\n",
    "            \n",
    "            cv2.imwrite(file_name, image[y1:y2,x1:x2])    "
   ]
  },
  {
   "cell_type": "code",
   "execution_count": null,
   "id": "8aa91a04",
   "metadata": {},
   "outputs": [],
   "source": []
  }
 ],
 "metadata": {
  "kernelspec": {
   "display_name": "Python 3 (ipykernel)",
   "language": "python",
   "name": "python3"
  },
  "language_info": {
   "codemirror_mode": {
    "name": "ipython",
    "version": 3
   },
   "file_extension": ".py",
   "mimetype": "text/x-python",
   "name": "python",
   "nbconvert_exporter": "python",
   "pygments_lexer": "ipython3",
   "version": "3.9.7"
  }
 },
 "nbformat": 4,
 "nbformat_minor": 5
}
