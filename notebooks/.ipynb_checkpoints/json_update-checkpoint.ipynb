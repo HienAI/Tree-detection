{
 "cells": [
  {
   "cell_type": "code",
   "execution_count": 1,
   "id": "4df50401",
   "metadata": {},
   "outputs": [],
   "source": [
    "import json\n",
    "import os"
   ]
  },
  {
   "cell_type": "code",
   "execution_count": 2,
   "id": "5a4a0fd0",
   "metadata": {},
   "outputs": [],
   "source": [
    "path = \"/opt/data/team/hien/data/raw\"\n",
    "#read edited json\n",
    "with open(path + \"/BPlan_Berlin_Planzeichen_filtered.json\",\"r\")as file:\n",
    "    obj = json.load(file)\n",
    "    img = obj[\"images\"]\n",
    "    anno = obj[\"annotations\"]"
   ]
  },
  {
   "cell_type": "code",
   "execution_count": null,
   "id": "80d050b9",
   "metadata": {},
   "outputs": [],
   "source": []
  },
  {
   "cell_type": "code",
   "execution_count": 3,
   "id": "9aec86c1",
   "metadata": {},
   "outputs": [
    {
     "name": "stdout",
     "output_type": "stream",
     "text": [
      "done\n"
     ]
    }
   ],
   "source": [
    "#The COCO bounding box format is [top left x position, top left y position, width, height].\n",
    "#Substract topleft x and y of plan_schematic from top left x and y of each annotation within plan_schematic, for each BPlan\n",
    "for i in anno:\n",
    "    if (i[\"category_id\"] == 124):\n",
    "        x = i[\"bbox\"][0]\n",
    "        y = i[\"bbox\"][1]\n",
    "        for j in anno:\n",
    "            if (i[\"image_id\"] == j[\"image_id\"]):\n",
    "                j[\"bbox\"][0] = j[\"bbox\"][0] - x\n",
    "                j[\"bbox\"][1] = j[\"bbox\"][1] - y\n",
    "        \n",
    "for negative in anno:\n",
    "    if (negative[\"bbox\"][0]  < 0 or  negative[\"bbox\"][1] < 0):\n",
    "        #remove annotations outside of crop area\n",
    "        #print(negative[\"image_id\"])\n",
    "        negative.clear()\n",
    "obj[\"annotations\"] = [z for z in obj[\"annotations\"] if z]\n",
    "anno= obj[\"annotations\"]\n",
    "\n",
    "\"\"\"for test in anno:\n",
    "    if (test[\"bbox\"][0]  <= 0 or  test[\"bbox\"][1] <= 0):\n",
    "        #remove annotations with wrong annotations, this is a single case. need to be checked in next export\n",
    "        if test[\"category_id\"] == 150:\n",
    "            print(test[\"category_id\"])\n",
    "            print(test[\"image_id\"])\n",
    "            print(test[\"id\"])\n",
    "            print(test[\"bbox\"])\n",
    "    if (test[\"image_id\"]== 100492 or test[\"image_id\"]== 100579):\n",
    "        test.clear()\n",
    "obj[\"annotations\"] = [z for z in obj[\"annotations\"] if z]\n",
    "anno= obj[\"annotations\"]\"\"\"            \n",
    "\n",
    "#print(anno)\n",
    "\n",
    "                \n",
    "with open(path + '/BPlan_Berlin_Planzeichen_filtered_preview.json', 'w') as output:\n",
    "    json.dump(obj, output, indent=4)\n",
    "                \n",
    "#removing all annotations of plan_schematic\n",
    "\n",
    "for n in anno:\n",
    "    if (n[\"category_id\"] == 124):\n",
    "        n.clear()\n",
    "\n",
    "for cat in obj[\"categories\"]:\n",
    "    if cat[\"id\"] == 124:\n",
    "        cat.clear()\n",
    "obj[\"categories\"] = [c for c in obj[\"categories\"] if c]\n",
    "        \n",
    "\n",
    "\n",
    "obj[\"annotations\"] = [k for k in obj[\"annotations\"] if k]\n",
    "\n",
    "\n",
    "\n",
    "#add unique used category_id into obj[\"images\"][idx][\"category_ids\"]\n",
    "\n",
    "for idx in img: \n",
    "    for anns in obj[\"annotations\"]:\n",
    "        if (anns['image_id'] == idx[\"id\"]):\n",
    "            idx[\"category_ids\"].append(anns[\"category_id\"])\n",
    "\n",
    "for im in img:\n",
    "    mylist = im[\"category_ids\"]\n",
    "    mylist = list(dict.fromkeys(mylist))\n",
    "    im[\"category_ids\"] = mylist\n",
    "            \n",
    "#removing all img without annotation\n",
    "for image in img:\n",
    "    count=0\n",
    "    for anns in obj[\"annotations\"]:\n",
    "        if (image[\"id\"] == anns[\"image_id\"]):\n",
    "            count = count +1\n",
    "    if count == 0:\n",
    "        image.clear()\n",
    "        \n",
    "obj[\"images\"] = [m for m in obj[\"images\"] if m]\n",
    "print(\"done\")"
   ]
  },
  {
   "cell_type": "code",
   "execution_count": 4,
   "id": "c2198065",
   "metadata": {},
   "outputs": [],
   "source": [
    "#write edited json with updated coordinates for each annotation, WICHTIG: json nicht sortieren\n",
    "with open(path + '/BPlan_Berlin_Planzeichen_filtered_updated.json', 'w') as output:\n",
    "    json.dump(obj, output, indent=4)"
   ]
  }
 ],
 "metadata": {
  "kernelspec": {
   "display_name": "Python 3 (ipykernel)",
   "language": "python",
   "name": "python3"
  },
  "language_info": {
   "codemirror_mode": {
    "name": "ipython",
    "version": 3
   },
   "file_extension": ".py",
   "mimetype": "text/x-python",
   "name": "python",
   "nbconvert_exporter": "python",
   "pygments_lexer": "ipython3",
   "version": "3.9.7"
  }
 },
 "nbformat": 4,
 "nbformat_minor": 5
}
