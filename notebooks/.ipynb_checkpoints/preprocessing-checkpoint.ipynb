{
 "cells": [
  {
   "cell_type": "code",
   "execution_count": 3,
   "id": "65b59705",
   "metadata": {},
   "outputs": [],
   "source": [
    "import cv2\n",
    "import json\n",
    "import os\n",
    "from PIL import Image\n",
    "from torchvision.transforms import RandomCrop, ToTensor"
   ]
  },
  {
   "cell_type": "code",
   "execution_count": 4,
   "id": "925536e9",
   "metadata": {},
   "outputs": [],
   "source": [
    "path = \"/opt/data/team/hien/data/raw\"\n",
    "#read edited json\n",
    "with open(path + \"/BPlan_Berlin_Planzeichen_filtered_updated.json\",\"r\")as file:\n",
    "    obj = json.load(file)\n",
    "    img = obj[\"images\"]\n",
    "    anno = obj[\"annotations\"]\n",
    "\n",
    "with open(path + \"/BPlan_Berlin_Planzeichen_resized.json\",\"r\")as file_n:\n",
    "    new_obj = json.load(file_n)\n",
    "    new_img = new_obj[\"images\"]\n",
    "    new_anno = new_obj[\"annotations\"]\n",
    "    \n",
    "directory = path + \"/files/cropped_dataset\"\n",
    "os.chdir(directory)\n",
    "\n"
   ]
  },
  {
   "cell_type": "code",
   "execution_count": 3,
   "id": "2db6c5c3",
   "metadata": {},
   "outputs": [],
   "source": [
    "for i in img:\n",
    "    file_name = i[\"file_name\"]\n",
    "    image = cv2.imread(path +\"/files/BPlan_cropped/\"+ file_name)\n",
    "    # height, width, number of channels in image\n",
    "    height = image.shape[0]\n",
    "    width = image.shape[1]\n",
    "\n",
    "    count = 0\n",
    "    while(height >= 1600 or width >= 1600):\n",
    "        height = height/2\n",
    "        width = width/2\n",
    "        count = count +1\n",
    "    \n",
    "    #split oversized img into 4 quadrants and create new .png's\n",
    "    if count != 0:\n",
    "        for row in range((2**count)):\n",
    "            for col in range((2**count)):\n",
    "                x1 = int(col * width)\n",
    "                y1 = int(row * height)\n",
    "                x2 = int((col + 1) * width)\n",
    "                y2 = int((row + 1) * height)\n",
    "\n",
    "                quadrant = str(col) + str(row)\n",
    "                fn_split = file_name.split(\".\")\n",
    "                file = fn_split[0] +\"_q\"+ quadrant + \".\" +fn_split[1]\n",
    "                cv2.imwrite(file, image[y1:y2,x1:x2])\n",
    "                #create img data and insert into json\n",
    "                dict_img_bp = {\"id\": int(str(i[\"id\"])+ quadrant), \n",
    "                               \"category_ids\": [], \n",
    "                               \"width\": width, \n",
    "                               \"height\": height, \n",
    "                               \"file_name\": file}\n",
    "                new_img.append(dict_img_bp)\n",
    "                #change annos according to new imgs and insert into new json\n",
    "                #check if anno bboxes are in quadrant, if so append anno to json\n",
    "                #!!! atm bboxes crossing multiple quadrants wont be tracked !!!\n",
    "                for ans in anno:\n",
    "                    if i[\"id\"]== ans[\"image_id\"]:\n",
    "                        #The COCO bounding box format is [top left x position, top left y position, width, height].\n",
    "                        x1_old = ans[\"bbox\"][0]\n",
    "                        y1_old = ans[\"bbox\"][1]\n",
    "                        x2_old = x1_old + ans[\"bbox\"][2]\n",
    "                        y2_old = y1_old + ans[\"bbox\"][3]\n",
    "                        \n",
    "                        if x1_old and x2_old in range(x1, x2):\n",
    "                            if y1_old and y2_old in range(y1, y2):\n",
    "                                dict_anno_bp = {\"id\": int(str(ans[\"id\"])+ quadrant), \n",
    "                                \"image_id\": int(str(ans[\"image_id\"])+ quadrant), \n",
    "                                \"category_id\": ans[\"category_id\"], \n",
    "                                \"bbox\": ans[\"bbox\"]}\n",
    "                                new_anno.append(dict_anno_bp)\n",
    "        \n",
    "                        \n",
    "    else:\n",
    "        #copy img data from original json\n",
    "        cv2.imwrite(file_name, image)\n",
    "        dict_img_bp = {\"id\": i[\"id\"] , \n",
    "                       \"category_ids\": [], \n",
    "                       \"width\": width, \n",
    "                       \"height\": height, \n",
    "                       \"file_name\": i[\"file_name\"]}\n",
    "        new_img.append(dict_img_bp)\n",
    "        \n",
    "        #copy annos from original json\n",
    "        for ans in anno:\n",
    "            if i[\"id\"]== ans[\"image_id\"]:\n",
    "                dict_anno_bp = {\"id\": ans[\"id\"], \n",
    "                                \"image_id\": ans[\"image_id\"], \n",
    "                                \"category_id\": ans[\"category_id\"], \n",
    "                                \"bbox\": ans[\"bbox\"]}\n",
    "                new_anno.append(dict_anno_bp)\n",
    "\n"
   ]
  },
  {
   "cell_type": "code",
   "execution_count": 6,
   "id": "135816ea",
   "metadata": {},
   "outputs": [],
   "source": [
    "#add unique used category_id to[\"category_ids\"] in \"images\"\n",
    "for idx in new_img: \n",
    "    for ann in new_anno:\n",
    "        if (ann['image_id'] == idx[\"id\"]):\n",
    "            idx[\"category_ids\"].append(ann[\"category_id\"])\n",
    "\n",
    "for im in new_img:\n",
    "    mylist = im[\"category_ids\"]\n",
    "    mylist = list(dict.fromkeys(mylist))\n",
    "    im[\"category_ids\"] = mylist                \n"
   ]
  },
  {
   "cell_type": "code",
   "execution_count": 5,
   "id": "58b46c1f",
   "metadata": {},
   "outputs": [],
   "source": [
    "#removing all img without annotation\n",
    "for image in new_img:\n",
    "    count=0\n",
    "    for anns in new_obj[\"annotations\"]:\n",
    "        if (image[\"id\"] == anns[\"image_id\"]):\n",
    "            count = count +1\n",
    "    if count == 0:\n",
    "        image.clear()\n",
    "        \n",
    "new_obj[\"images\"] = [m for m in new_obj[\"images\"] if m]\n",
    "\n",
    "\n",
    "with open(path + '/BPlan_Berlin_Planzeichen_resized.json', 'w') as output:\n",
    "    json.dump(new_obj, output, indent=4)"
   ]
  },
  {
   "cell_type": "code",
   "execution_count": 1,
   "id": "2eb01def",
   "metadata": {},
   "outputs": [
    {
     "name": "stdout",
     "output_type": "stream",
     "text": [
      "done\n"
     ]
    }
   ],
   "source": [
    "print(\"done\")"
   ]
  }
 ],
 "metadata": {
  "kernelspec": {
   "display_name": "Python 3 (ipykernel)",
   "language": "python",
   "name": "python3"
  },
  "language_info": {
   "codemirror_mode": {
    "name": "ipython",
    "version": 3
   },
   "file_extension": ".py",
   "mimetype": "text/x-python",
   "name": "python",
   "nbconvert_exporter": "python",
   "pygments_lexer": "ipython3",
   "version": "3.9.7"
  }
 },
 "nbformat": 4,
 "nbformat_minor": 5
}
