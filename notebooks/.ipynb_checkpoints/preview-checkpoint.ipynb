{
 "cells": [
  {
   "cell_type": "code",
   "execution_count": 1,
   "id": "950c2b25",
   "metadata": {},
   "outputs": [],
   "source": [
    "import cv2 as cv\n",
    "import json\n",
    "import os\n",
    "import numpy as np\n",
    "import shutil"
   ]
  },
  {
   "cell_type": "code",
   "execution_count": 2,
   "id": "71841735",
   "metadata": {},
   "outputs": [
    {
     "name": "stdout",
     "output_type": "stream",
     "text": [
      "done\n"
     ]
    }
   ],
   "source": [
    "path = \"C:/Users/manh/BPlan_Berlin_Planzeichen/data/raw\"\n",
    "#read edited json\n",
    "with open(path + \"/BPlan_Berlin_Planzeichen-8_filtered_preview.json\",\"r\")as file:\n",
    "    obj = json.load(file)\n",
    "    img = obj[\"images\"]\n",
    "    anno = obj[\"annotations\"]\n",
    "\n",
    "\n",
    "\n",
    "directory = path + \"/files/preview\"\n",
    "os.chdir(directory)\n",
    "\n",
    "\n",
    "# fetch all files\n",
    "for file in os.listdir(path + \"/files/BPlan_cropped\"):\n",
    "    # construct full file path\n",
    "    source = path + \"/files/BPlan_cropped/\" + file\n",
    "    destination = directory+ \"/\" + file\n",
    "    # copy only files\n",
    "    if os.path.isfile(source):\n",
    "        shutil.copy(source, destination)\n",
    "print(\"done\")\n",
    "        \n",
    "\n",
    "#timg = cv.imread(path + \"/files/preview/\" + img[1][\"file_name\"])\n",
    "#top_left_x = int(anno[1][\"bbox\"][0])\n",
    "#top_left_y = int(anno[1][\"bbox\"][1])\n",
    "#bot_right_x = top_left_x + int(anno[1][\"bbox\"][2])\n",
    "#bot_right_y = top_left_y + int(anno[1][\"bbox\"][3])\n",
    "#cv.rectangle(timg,(top_left_x,top_left_y),(bot_right_x, bot_right_y),(0,0,255),1)\n",
    "#cv.imwrite(img[1][\"file_name\"], timg)\n",
    "\n",
    "#img_test = np.zeros((800,512,3), np.uint8)\n",
    "#cv.imshow(\"test\", img_test)"
   ]
  },
  {
   "cell_type": "code",
   "execution_count": 3,
   "id": "ce56310a",
   "metadata": {},
   "outputs": [
    {
     "name": "stdout",
     "output_type": "stream",
     "text": [
      "done\n"
     ]
    }
   ],
   "source": [
    "for preview in img:\n",
    "    file_name = preview[\"file_name\"]\n",
    "\n",
    "    \n",
    "    for bbox in anno:\n",
    "        if (preview[\"id\"]== bbox[\"image_id\"] and bbox[\"category_id\"] != 124):\n",
    "            image = cv.imread(path + \"/files/preview/\" + file_name)\n",
    "            \n",
    "            top_left_x = int(bbox[\"bbox\"][0])\n",
    "            top_left_y = int(bbox[\"bbox\"][1])\n",
    "            bot_right_x = top_left_x + int(bbox[\"bbox\"][2])\n",
    "            bot_right_y = top_left_y + int(bbox[\"bbox\"][3])\n",
    "            \n",
    "            cv.rectangle(image,(top_left_x,top_left_y),(bot_right_x, bot_right_y),(0,0,255),1)\n",
    "            cv.imwrite(file_name, image)\n",
    "print(\"done\")"
   ]
  }
 ],
 "metadata": {
  "kernelspec": {
   "display_name": "Python 3 (ipykernel)",
   "language": "python",
   "name": "python3"
  },
  "language_info": {
   "codemirror_mode": {
    "name": "ipython",
    "version": 3
   },
   "file_extension": ".py",
   "mimetype": "text/x-python",
   "name": "python",
   "nbconvert_exporter": "python",
   "pygments_lexer": "ipython3",
   "version": "3.9.7"
  }
 },
 "nbformat": 4,
 "nbformat_minor": 5
}
