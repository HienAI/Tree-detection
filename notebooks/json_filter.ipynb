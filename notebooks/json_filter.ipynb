{
 "cells": [
  {
   "cell_type": "code",
   "execution_count": 1,
   "id": "294d75f0",
   "metadata": {},
   "outputs": [],
   "source": [
    "import json\n",
    "\n",
    "path = \"/opt/data/team/hien/data/raw\"\n",
    "#read json\n",
    "with open(path + \"/BPlan_Berlin_Planzeichen.json\",\"r\")as file:\n",
    "    obj = json.load(file)\n",
    "    img = obj[\"images\"]\n",
    "    anno = obj[\"annotations\"]\n",
    "\n",
    "#filter json\n",
    "    #keep \"id\" & \"name\" of categories\n",
    "#for c in obj[\"categories\"]:\n",
    "#    c.pop(\"supercategory\")\n",
    "#    c.pop(\"color\")\n",
    "#    c.pop(\"metadata\")\n",
    "#    c.pop(\"keypoint_colors\")\n",
    "    \n",
    "#delete all keys in \"images\"\n",
    "#KEEP \"id\", \"width\", \"height\" and \"filename\"    \n",
    "#for i in img:\n",
    "#    i.pop(\"dataset_id\")\n",
    "#    i.pop(\"category_ids\")\n",
    "#    i.pop(\"annotated\")\n",
    "#    i.pop(\"annotating\")\n",
    "#    i.pop(\"path\")\n",
    "#    i.pop(\"num_annotations\")\n",
    "#    i.pop(\"metadata\")\n",
    "#    i.pop(\"deleted\")\n",
    "#    i.pop(\"milliseconds\")\n",
    "#    i.pop(\"events\")\n",
    "#    i.pop(\"regenerate_thumbnail\")\n",
    "\n",
    "#keep \"image_id\", \"category_id\" \"segmentation\", \"area\", \"iscrowd\" & \"bbox\"   \n",
    "#for a in anno:\n",
    "#    a.pop(\"id\")\n",
    "#    a.pop(\"isbbox\")\n",
    "#    a.pop(\"color\")\n",
    "#    a.pop(\"metadata\")\n",
    "\n",
    "#write edited json WICHTIG: json nicht sortieren\n",
    "with open(path + '/BPlan_Berlin_Planzeichen_filtered.json', 'w') as output:\n",
    "    json.dump(obj, output, indent=4)   \n",
    "    \n",
    "    \n",
    "#filter filtered json further to only show plan_schematic\n",
    "for n in anno:\n",
    "    if(n[\"category_id\"]!=124):\n",
    "        n.clear()\n",
    "\n",
    "#delete empty dict entries\n",
    "#output json with only information about plan_schematic(category_id 124)\n",
    "obj[\"annotations\"] = [i for i in obj[\"annotations\"] if i]\n",
    "#print(obj)\n",
    "\n",
    "    \n",
    "#write edited json with ONLY annotations for plan_schematic, WICHTIG: json nicht sortieren\n",
    "with open(path + '/BPlan_Berlin_Planzeichen_filtered_plan_schematic.json', 'w') as output:\n",
    "    json.dump(obj, output, indent=4)\n"
   ]
  },
  {
   "cell_type": "code",
   "execution_count": null,
   "id": "a95a2206",
   "metadata": {},
   "outputs": [],
   "source": []
  },
  {
   "cell_type": "code",
   "execution_count": null,
   "id": "65cdab36",
   "metadata": {},
   "outputs": [],
   "source": []
  },
  {
   "cell_type": "code",
   "execution_count": null,
   "id": "c1794814",
   "metadata": {},
   "outputs": [],
   "source": []
  }
 ],
 "metadata": {
  "kernelspec": {
   "display_name": "Python 3 (ipykernel)",
   "language": "python",
   "name": "python3"
  },
  "language_info": {
   "codemirror_mode": {
    "name": "ipython",
    "version": 3
   },
   "file_extension": ".py",
   "mimetype": "text/x-python",
   "name": "python",
   "nbconvert_exporter": "python",
   "pygments_lexer": "ipython3",
   "version": "3.9.7"
  }
 },
 "nbformat": 4,
 "nbformat_minor": 5
}
