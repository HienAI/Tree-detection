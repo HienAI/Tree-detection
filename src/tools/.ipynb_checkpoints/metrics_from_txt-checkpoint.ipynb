{
 "cells": [
  {
   "cell_type": "code",
   "execution_count": 1,
   "id": "7c7bdd57",
   "metadata": {},
   "outputs": [
    {
     "name": "stdout",
     "output_type": "stream",
     "text": [
      "['Epoch: [0]  [  0/214]  eta: 0:02:49  lr: 0.000003  loss: 51.8904 (51.8904)  loss_classifier: 1.6593 (1.6593)  loss_box_reg: 0.0155 (0.0155)  loss_objectness: 18.2536 (18.2536)  loss_rpn_box_reg: 31.9620 (31.9620)  time: 0.7934  data: 0.2966  max mem: 2026\\n', 'Epoch: [0]  [ 10/214]  eta: 0:01:43  lr: 0.000026  loss: 26.9119 (56.0885)  loss_classifier: 1.6270 (1.6075)  loss_box_reg: 0.0014 (0.0070)  loss_objectness: 9.0225 (10.9158)  loss_rpn_box_reg: 15.3017 (43.5581)  time: 0.5050  data: 0.0346  max mem: 3972\\n', 'Epoch: [0]  [ 20/214]  eta: 0:01:30  lr: 0.000050  loss: 26.9119 (45.6073)  loss_classifier: 1.4704 (1.3954)  loss_box_reg: 0.0010 (0.0152)  loss_objectness: 6.1702 (7.9724)  loss_rpn_box_reg: 15.3017 (36.2243)  time: 0.4481  data: 0.0072  max mem: 3972\\n', 'Epoch: [0]  [ 30/214]  eta: 0:01:25  lr: 0.000073  loss: 34.8078 (43.0820)  loss_classifier: 0.8467 (1.1542)  loss_box_reg: 0.0012 (0.0262)  loss_objectness: 1.4013 (5.7492)  loss_rpn_box_reg: 29.9503 (36.1524)  time: 0.4424  data: 0.0059  max mem: 3972\\n', 'Epoch: [0]  [ 40/214]  eta: 0:01:21  lr: 0.000097  loss: 12.4125 (37.8384)  loss_classifier: 0.4265 (0.9475)  loss_box_reg: 0.0138 (0.0415)  loss_objectness: 1.1317 (4.6799)  loss_rpn_box_reg: 10.6547 (32.1695)  time: 0.4687  data: 0.0059  max mem: 4138\\n', 'Epoch: [0]  [ 50/214]  eta: 0:01:15  lr: 0.000120  loss: 15.0295 (36.3700)  loss_classifier: 0.1973 (0.8026)  loss_box_reg: 0.0085 (0.0450)  loss_objectness: 0.9428 (3.9118)  loss_rpn_box_reg: 13.9880 (31.6106)  time: 0.4503  data: 0.0058  max mem: 4138\\n', 'Epoch: [0]  [ 60/214]  eta: 0:01:10  lr: 0.000144  loss: 14.7085 (32.0340)  loss_classifier: 0.1299 (0.6986)  loss_box_reg: 0.0085 (0.0497)  loss_objectness: 0.7583 (3.3957)  loss_rpn_box_reg: 13.9028 (27.8900)  time: 0.4369  data: 0.0059  max mem: 4138\\n', 'Epoch: [0]  [ 70/214]  eta: 0:01:05  lr: 0.000167  loss: 12.1972 (32.3116)  loss_classifier: 0.0998 (0.6166)  loss_box_reg: 0.0185 (0.0455)  loss_objectness: 0.7232 (3.0237)  loss_rpn_box_reg: 11.1129 (28.6258)  time: 0.4424  data: 0.0062  max mem: 4138\\n', 'Epoch: [0]  [ 80/214]  eta: 0:01:00  lr: 0.000190  loss: 12.1972 (30.9534)  loss_classifier: 0.0803 (0.5559)  loss_box_reg: 0.0017 (0.0412)  loss_objectness: 0.6853 (2.7386)  loss_rpn_box_reg: 11.3187 (27.6177)  time: 0.4413  data: 0.0061  max mem: 4138\\n', 'Epoch: [0]  [ 90/214]  eta: 0:00:55  lr: 0.000214  loss: 13.3521 (29.9024)  loss_classifier: 0.0537 (0.5024)  loss_box_reg: 0.0013 (0.0379)  loss_objectness: 0.6909 (2.5255)  loss_rpn_box_reg: 12.3184 (26.8366)  time: 0.4337  data: 0.0059  max mem: 4138\\n', 'Epoch: [0]  [100/214]  eta: 0:00:50  lr: 0.000237  loss: 13.6195 (29.6645)  loss_classifier: 0.0667 (0.4675)  loss_box_reg: 0.0025 (0.0366)  loss_objectness: 0.6241 (2.3373)  loss_rpn_box_reg: 12.9438 (26.8231)  time: 0.4241  data: 0.0061  max mem: 4138\\n', 'Epoch: [0]  [110/214]  eta: 0:00:46  lr: 0.000261  loss: 15.7769 (29.0738)  loss_classifier: 0.0937 (0.4450)  loss_box_reg: 0.0080 (0.0370)  loss_objectness: 0.5955 (2.1904)  loss_rpn_box_reg: 15.0325 (26.4014)  time: 0.4362  data: 0.0061  max mem: 4138\\n', 'Epoch: [0]  [120/214]  eta: 0:00:41  lr: 0.000284  loss: 16.9018 (28.9420)  loss_classifier: 0.0793 (0.4142)  loss_box_reg: 0.0007 (0.0343)  loss_objectness: 0.5856 (2.0647)  loss_rpn_box_reg: 15.5649 (26.4287)  time: 0.4334  data: 0.0060  max mem: 4138\\n', 'Epoch: [0]  [130/214]  eta: 0:00:37  lr: 0.000308  loss: 15.4363 (29.5320)  loss_classifier: 0.0502 (0.3881)  loss_box_reg: 0.0003 (0.0321)  loss_objectness: 0.5742 (1.9572)  loss_rpn_box_reg: 14.7557 (27.1546)  time: 0.4291  data: 0.0061  max mem: 4138\\n', 'Epoch: [0]  [140/214]  eta: 0:00:33  lr: 0.000331  loss: 13.9520 (28.6034)  loss_classifier: 0.0502 (0.3667)  loss_box_reg: 0.0004 (0.0301)  loss_objectness: 0.7009 (1.8717)  loss_rpn_box_reg: 13.1634 (26.3349)  time: 0.4645  data: 0.0058  max mem: 4138\\n', 'Epoch: [0]  [150/214]  eta: 0:00:28  lr: 0.000355  loss: 38.7275 (30.5802)  loss_classifier: 0.0341 (0.3459)  loss_box_reg: 0.0003 (0.0283)  loss_objectness: 0.7317 (1.8021)  loss_rpn_box_reg: 37.5633 (28.4039)  time: 0.4987  data: 0.0057  max mem: 4238\\n', 'Epoch: [0]  [160/214]  eta: 0:00:24  lr: 0.000378  loss: 38.7275 (29.8193)  loss_classifier: 0.0456 (0.3285)  loss_box_reg: 0.0003 (0.0267)  loss_objectness: 0.6945 (1.7369)  loss_rpn_box_reg: 37.5633 (27.7272)  time: 0.4738  data: 0.0061  max mem: 4238\\n', 'Epoch: [0]  [170/214]  eta: 0:00:19  lr: 0.000402  loss: 17.0188 (29.8768)  loss_classifier: 0.0570 (0.3148)  loss_box_reg: 0.0006 (0.0257)  loss_objectness: 0.6091 (1.6726)  loss_rpn_box_reg: 16.2635 (27.8637)  time: 0.4409  data: 0.0059  max mem: 4238\\n', 'Epoch: [0]  [180/214]  eta: 0:00:15  lr: 0.000425  loss: 30.2723 (30.4002)  loss_classifier: 0.0593 (0.3027)  loss_box_reg: 0.0006 (0.0245)  loss_objectness: 0.6091 (1.6161)  loss_rpn_box_reg: 29.6849 (28.4570)  time: 0.4625  data: 0.0056  max mem: 4281\\n', 'Epoch: [0]  [190/214]  eta: 0:00:10  lr: 0.000448  loss: 10.1138 (29.3469)  loss_classifier: 0.0687 (0.2939)  loss_box_reg: 0.0020 (0.0239)  loss_objectness: 0.6171 (1.5682)  loss_rpn_box_reg: 9.2650 (27.4609)  time: 0.4602  data: 0.0056  max mem: 4281\\n', 'Epoch: [0]  [200/214]  eta: 0:00:06  lr: 0.000472  loss: 11.8223 (29.7349)  loss_classifier: 0.0828 (0.2831)  loss_box_reg: 0.0018 (0.0229)  loss_objectness: 0.7446 (1.5380)  loss_rpn_box_reg: 11.0143 (27.8909)  time: 0.4595  data: 0.0057  max mem: 4281\\n', 'Epoch: [0]  [210/214]  eta: 0:00:01  lr: 0.000495  loss: 22.6142 (29.6180)  loss_classifier: 0.0656 (0.3103)  loss_box_reg: 0.0007 (0.0256)  loss_objectness: 0.8647 (1.5150)  loss_rpn_box_reg: 12.9831 (27.7671)  time: 0.4538  data: 0.0061  max mem: 4281\\n', 'Epoch: [0]  [213/214]  eta: 0:00:00  lr: 0.000500  loss: 13.8314 (29.5261)  loss_classifier: 0.0656 (0.3134)  loss_box_reg: 0.0008 (0.0259)  loss_objectness: 0.8238 (1.5048)  loss_rpn_box_reg: 12.4832 (27.6820)  time: 0.4369  data: 0.0061  max mem: 4281\\n', 'Epoch: [0] Total time: 0:01:36 (0.4523 s / it)\\n']\n",
      "['Test:  [ 0/53]  eta: 0:00:20  model_time: 0.1474 (0.1474)  evaluator_time: 0.0382 (0.0382)  time: 0.3952  data: 0.2030  max mem: 4281\\n', 'Test:  [52/53]  eta: 0:00:00  model_time: 0.1714 (0.1793)  evaluator_time: 0.0456 (0.0768)  time: 0.2706  data: 0.0051  max mem: 4281\\n', 'Test: Total time: 0:00:14 (0.2700 s / it)\\n']\n",
      "[' Average Precision  (AP) @[ IoU=0.50:0.95 | area=   all | maxDets=100 ] = 0.000\\n', ' Average Precision  (AP) @[ IoU=0.50      | area=   all | maxDets=100 ] = 0.001\\n', ' Average Precision  (AP) @[ IoU=0.75      | area=   all | maxDets=100 ] = 0.000\\n', ' Average Precision  (AP) @[ IoU=0.50:0.95 | area= small | maxDets=100 ] = 0.000\\n', ' Average Precision  (AP) @[ IoU=0.50:0.95 | area=medium | maxDets=100 ] = 0.000\\n', ' Average Precision  (AP) @[ IoU=0.50:0.95 | area= large | maxDets=100 ] = -1.000\\n', ' Average Recall     (AR) @[ IoU=0.50:0.95 | area=   all | maxDets=  1 ] = 0.000\\n', ' Average Recall     (AR) @[ IoU=0.50:0.95 | area=   all | maxDets= 10 ] = 0.001\\n', ' Average Recall     (AR) @[ IoU=0.50:0.95 | area=   all | maxDets=100 ] = 0.006\\n', ' Average Recall     (AR) @[ IoU=0.50:0.95 | area= small | maxDets=100 ] = 0.006\\n', ' Average Recall     (AR) @[ IoU=0.50:0.95 | area=medium | maxDets=100 ] = 0.000\\n', ' Average Recall     (AR) @[ IoU=0.50:0.95 | area= large | maxDets=100 ] = -1.000\\n']\n"
     ]
    }
   ],
   "source": [
    "#def metrics_from_txt(path_to_txt):\n",
    "path_to_txt = \"/opt/data/team/hien/models/model_01_03_100_0.txt\"\n",
    "    \n",
    "    \n",
    "    #extract AP and AR from .txt, which was generated while training a model\n",
    "    \n",
    "    \n",
    "training = []\n",
    "evaluation = []\n",
    "metric = []\n",
    "with open(path_to_txt, 'r') as content:\n",
    "    for line in content:\n",
    "        if line.startswith(\"Epoch:\"):\n",
    "            training.append(line)\n",
    "        if line.startswith(\"Test:\"):\n",
    "            evaluation.append(line)\n",
    "        if line.startswith(\" Average \"):  \n",
    "            metric.append(line)\n",
    "        \n",
    "    \n",
    "print(training)\n",
    "print(evaluation)\n",
    "print(metric)\n",
    "     \n",
    "with open('listfile.txt', 'w') as filehandle:\n",
    "    for listitem in metric:\n",
    "        filehandle.write(\"%s\"% listitem)\n",
    "        \n",
    "        "
   ]
  },
  {
   "cell_type": "code",
   "execution_count": null,
   "id": "bb2aa052",
   "metadata": {},
   "outputs": [],
   "source": []
  }
 ],
 "metadata": {
  "kernelspec": {
   "display_name": "Python 3 (ipykernel)",
   "language": "python",
   "name": "python3"
  },
  "language_info": {
   "codemirror_mode": {
    "name": "ipython",
    "version": 3
   },
   "file_extension": ".py",
   "mimetype": "text/x-python",
   "name": "python",
   "nbconvert_exporter": "python",
   "pygments_lexer": "ipython3",
   "version": "3.9.7"
  }
 },
 "nbformat": 4,
 "nbformat_minor": 5
}
